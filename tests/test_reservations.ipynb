{
 "cells": [
  {
   "cell_type": "code",
   "execution_count": 1,
   "metadata": {},
   "outputs": [],
   "source": [
    "import time"
   ]
  },
  {
   "cell_type": "code",
   "execution_count": 11,
   "metadata": {},
   "outputs": [
    {
     "data": {
      "text/plain": [
       "'2024-04-12T12:04:40Z'"
      ]
     },
     "execution_count": 11,
     "metadata": {},
     "output_type": "execute_result"
    }
   ],
   "source": [
    "time.strftime(\"%Y-%m-%dT%H:%M:%SZ\", time.localtime())"
   ]
  },
  {
   "cell_type": "code",
   "execution_count": 12,
   "metadata": {},
   "outputs": [],
   "source": [
    "import uuid"
   ]
  },
  {
   "cell_type": "code",
   "execution_count": 14,
   "metadata": {},
   "outputs": [
    {
     "data": {
      "text/plain": [
       "'27197265-854c-40fc-90aa-f2712b4b38dc'"
      ]
     },
     "execution_count": 14,
     "metadata": {},
     "output_type": "execute_result"
    }
   ],
   "source": [
    "str(uuid.uuid4())"
   ]
  },
  {
   "cell_type": "code",
   "execution_count": 1,
   "metadata": {},
   "outputs": [],
   "source": [
    "import pandas as pd"
   ]
  },
  {
   "cell_type": "code",
   "execution_count": 3,
   "metadata": {},
   "outputs": [
    {
     "data": {
      "text/plain": [
       "'value1'"
      ]
     },
     "execution_count": 3,
     "metadata": {},
     "output_type": "execute_result"
    }
   ],
   "source": [
    "myDict = {\n",
    "    \"key1\": \"value1\"\n",
    "}\n",
    "myDict[\"key1\"]"
   ]
  },
  {
   "cell_type": "code",
   "execution_count": 10,
   "metadata": {},
   "outputs": [],
   "source": [
    "railwayReservation = [\n",
    "    {\n",
    "        \"RESERVATION_ID\": 101,\n",
    "        \"RESERVATION_DATE\": \"2024-04-13T08:00:00\",\n",
    "        \"TRAVEL_DATE\": \"2024-04-15T08:00:00\",\n",
    "        \"SOURCE_STATION\": \"Station A\",\n",
    "        \"DESTINATION_STATION\": \"Station B\",\n",
    "        \"PAYMENT_METHOD\": \"Card\",\n",
    "        \"TOTAL_FARE\": 100,\n",
    "        \"BOOKING_STATUS\": \"Confirmed\",\n",
    "        \"TRAIN_ID\": \"ABC123\",\n",
    "        \"PASSENGER_ID\": 101,\n",
    "        \"NAME\": \"Passenger 1\",\n",
    "        \"AGE\": 30,\n",
    "        \"GENDER\": \"Male\",\n",
    "        \"COACH_NO\": \"A1\",\n",
    "        \"SEAT_NO\": \"10\",\n",
    "        \"CLASS_TYPE\": \"Sleeper\"\n",
    "    },\n",
    "    {\n",
    "        \"RESERVATION_ID\": 101,\n",
    "        \"RESERVATION_DATE\": \"2024-04-13T08:00:00\",\n",
    "        \"TRAVEL_DATE\": \"2024-04-15T08:00:00\",\n",
    "        \"SOURCE_STATION\": \"Station A\",\n",
    "        \"DESTINATION_STATION\": \"Station B\",\n",
    "        \"PAYMENT_METHOD\": \"Card\",\n",
    "        \"TOTAL_FARE\": 100,\n",
    "        \"BOOKING_STATUS\": \"Confirmed\",\n",
    "        \"TRAIN_ID\": \"ABC123\",\n",
    "        \"PASSENGER_ID\": 103,\n",
    "        \"NAME\": \"Passenger 3\",\n",
    "        \"AGE\": 27,\n",
    "        \"GENDER\": \"Female\",\n",
    "        \"COACH_NO\": \"A1\",\n",
    "        \"SEAT_NO\": \"11\",\n",
    "        \"CLASS_TYPE\": \"Sleeper\"\n",
    "    },\n",
    "    {\n",
    "        \"RESERVATION_ID\": 102,\n",
    "        \"RESERVATION_DATE\": \"2024-04-13T08:00:00\",\n",
    "        \"TRAVEL_DATE\": \"2024-04-16T08:00:00\",\n",
    "        \"SOURCE_STATION\": \"Station C\",\n",
    "        \"DESTINATION_STATION\": \"Station D\",\n",
    "        \"PAYMENT_METHOD\": \"Cash\",\n",
    "        \"TOTAL_FARE\": 150,\n",
    "        \"BOOKING_STATUS\": \"Confirmed\",\n",
    "        \"TRAIN_ID\": \"DEF456\",\n",
    "        \"PASSENGER_ID\": 102,\n",
    "        \"NAME\": \"Passenger 2\",\n",
    "        \"AGE\": 25,\n",
    "        \"GENDER\": \"Female\",\n",
    "        \"COACH_NO\": \"B1\",\n",
    "        \"SEAT_NO\": \"5\",\n",
    "        \"CLASS_TYPE\": \"AC\"\n",
    "    }\n",
    "]"
   ]
  },
  {
   "cell_type": "code",
   "execution_count": 97,
   "metadata": {},
   "outputs": [
    {
     "data": {
      "text/html": [
       "<div>\n",
       "<style scoped>\n",
       "    .dataframe tbody tr th:only-of-type {\n",
       "        vertical-align: middle;\n",
       "    }\n",
       "\n",
       "    .dataframe tbody tr th {\n",
       "        vertical-align: top;\n",
       "    }\n",
       "\n",
       "    .dataframe thead th {\n",
       "        text-align: right;\n",
       "    }\n",
       "</style>\n",
       "<table border=\"1\" class=\"dataframe\">\n",
       "  <thead>\n",
       "    <tr style=\"text-align: right;\">\n",
       "      <th></th>\n",
       "      <th>RESERVATION_ID</th>\n",
       "      <th>RESERVATION_DATE</th>\n",
       "      <th>TRAVEL_DATE</th>\n",
       "      <th>SOURCE_STATION</th>\n",
       "      <th>DESTINATION_STATION</th>\n",
       "      <th>PAYMENT_METHOD</th>\n",
       "      <th>TOTAL_FARE</th>\n",
       "      <th>BOOKING_STATUS</th>\n",
       "      <th>TRAIN_ID</th>\n",
       "      <th>PASSENGER_ID</th>\n",
       "      <th>NAME</th>\n",
       "      <th>AGE</th>\n",
       "      <th>GENDER</th>\n",
       "      <th>COACH_NO</th>\n",
       "      <th>SEAT_NO</th>\n",
       "      <th>CLASS_TYPE</th>\n",
       "    </tr>\n",
       "  </thead>\n",
       "  <tbody>\n",
       "    <tr>\n",
       "      <th>0</th>\n",
       "      <td>101</td>\n",
       "      <td>2024-04-13T08:00:00</td>\n",
       "      <td>2024-04-15T08:00:00</td>\n",
       "      <td>Station A</td>\n",
       "      <td>Station B</td>\n",
       "      <td>Card</td>\n",
       "      <td>100</td>\n",
       "      <td>Confirmed</td>\n",
       "      <td>ABC123</td>\n",
       "      <td>101</td>\n",
       "      <td>Passenger 1</td>\n",
       "      <td>30</td>\n",
       "      <td>Male</td>\n",
       "      <td>A1</td>\n",
       "      <td>10</td>\n",
       "      <td>Sleeper</td>\n",
       "    </tr>\n",
       "    <tr>\n",
       "      <th>1</th>\n",
       "      <td>101</td>\n",
       "      <td>2024-04-13T08:00:00</td>\n",
       "      <td>2024-04-15T08:00:00</td>\n",
       "      <td>Station A</td>\n",
       "      <td>Station B</td>\n",
       "      <td>Card</td>\n",
       "      <td>100</td>\n",
       "      <td>Confirmed</td>\n",
       "      <td>ABC123</td>\n",
       "      <td>103</td>\n",
       "      <td>Passenger 3</td>\n",
       "      <td>27</td>\n",
       "      <td>Female</td>\n",
       "      <td>A1</td>\n",
       "      <td>11</td>\n",
       "      <td>Sleeper</td>\n",
       "    </tr>\n",
       "    <tr>\n",
       "      <th>2</th>\n",
       "      <td>102</td>\n",
       "      <td>2024-04-13T08:00:00</td>\n",
       "      <td>2024-04-16T08:00:00</td>\n",
       "      <td>Station C</td>\n",
       "      <td>Station D</td>\n",
       "      <td>Cash</td>\n",
       "      <td>150</td>\n",
       "      <td>Confirmed</td>\n",
       "      <td>DEF456</td>\n",
       "      <td>102</td>\n",
       "      <td>Passenger 2</td>\n",
       "      <td>25</td>\n",
       "      <td>Female</td>\n",
       "      <td>B1</td>\n",
       "      <td>5</td>\n",
       "      <td>AC</td>\n",
       "    </tr>\n",
       "  </tbody>\n",
       "</table>\n",
       "</div>"
      ],
      "text/plain": [
       "   RESERVATION_ID     RESERVATION_DATE          TRAVEL_DATE SOURCE_STATION  \\\n",
       "0             101  2024-04-13T08:00:00  2024-04-15T08:00:00      Station A   \n",
       "1             101  2024-04-13T08:00:00  2024-04-15T08:00:00      Station A   \n",
       "2             102  2024-04-13T08:00:00  2024-04-16T08:00:00      Station C   \n",
       "\n",
       "  DESTINATION_STATION PAYMENT_METHOD  TOTAL_FARE BOOKING_STATUS TRAIN_ID  \\\n",
       "0           Station B           Card         100      Confirmed   ABC123   \n",
       "1           Station B           Card         100      Confirmed   ABC123   \n",
       "2           Station D           Cash         150      Confirmed   DEF456   \n",
       "\n",
       "   PASSENGER_ID         NAME  AGE  GENDER COACH_NO SEAT_NO CLASS_TYPE  \n",
       "0           101  Passenger 1   30    Male       A1      10    Sleeper  \n",
       "1           103  Passenger 3   27  Female       A1      11    Sleeper  \n",
       "2           102  Passenger 2   25  Female       B1       5         AC  "
      ]
     },
     "execution_count": 97,
     "metadata": {},
     "output_type": "execute_result"
    }
   ],
   "source": [
    "df = pd.DataFrame(railwayReservation)\n",
    "df"
   ]
  },
  {
   "cell_type": "code",
   "execution_count": 98,
   "metadata": {},
   "outputs": [
    {
     "data": {
      "text/plain": [
       "<pandas.core.groupby.generic.DataFrameGroupBy object at 0x0000025AF6D65DB0>"
      ]
     },
     "execution_count": 98,
     "metadata": {},
     "output_type": "execute_result"
    }
   ],
   "source": [
    "df_grouped = df.groupby(by='RESERVATION_ID')\n",
    "df_grouped"
   ]
  },
  {
   "cell_type": "code",
   "execution_count": 99,
   "metadata": {},
   "outputs": [
    {
     "data": {
      "text/html": [
       "<div>\n",
       "<style scoped>\n",
       "    .dataframe tbody tr th:only-of-type {\n",
       "        vertical-align: middle;\n",
       "    }\n",
       "\n",
       "    .dataframe tbody tr th {\n",
       "        vertical-align: top;\n",
       "    }\n",
       "\n",
       "    .dataframe thead th {\n",
       "        text-align: right;\n",
       "    }\n",
       "</style>\n",
       "<table border=\"1\" class=\"dataframe\">\n",
       "  <thead>\n",
       "    <tr style=\"text-align: right;\">\n",
       "      <th></th>\n",
       "      <th>RESERVATION_DATE</th>\n",
       "      <th>TRAVEL_DATE</th>\n",
       "      <th>SOURCE_STATION</th>\n",
       "      <th>DESTINATION_STATION</th>\n",
       "      <th>PAYMENT_METHOD</th>\n",
       "      <th>TOTAL_FARE</th>\n",
       "      <th>BOOKING_STATUS</th>\n",
       "      <th>TRAIN_ID</th>\n",
       "      <th>PASSENGER_ID</th>\n",
       "      <th>NAME</th>\n",
       "      <th>AGE</th>\n",
       "      <th>GENDER</th>\n",
       "      <th>COACH_NO</th>\n",
       "      <th>SEAT_NO</th>\n",
       "      <th>CLASS_TYPE</th>\n",
       "    </tr>\n",
       "    <tr>\n",
       "      <th>RESERVATION_ID</th>\n",
       "      <th></th>\n",
       "      <th></th>\n",
       "      <th></th>\n",
       "      <th></th>\n",
       "      <th></th>\n",
       "      <th></th>\n",
       "      <th></th>\n",
       "      <th></th>\n",
       "      <th></th>\n",
       "      <th></th>\n",
       "      <th></th>\n",
       "      <th></th>\n",
       "      <th></th>\n",
       "      <th></th>\n",
       "      <th></th>\n",
       "    </tr>\n",
       "  </thead>\n",
       "  <tbody>\n",
       "    <tr>\n",
       "      <th>101</th>\n",
       "      <td>[2024-04-13T08:00:00, 2024-04-13T08:00:00]</td>\n",
       "      <td>[2024-04-15T08:00:00, 2024-04-15T08:00:00]</td>\n",
       "      <td>[Station A, Station A]</td>\n",
       "      <td>[Station B, Station B]</td>\n",
       "      <td>[Card, Card]</td>\n",
       "      <td>[100, 100]</td>\n",
       "      <td>[Confirmed, Confirmed]</td>\n",
       "      <td>[ABC123, ABC123]</td>\n",
       "      <td>[101, 103]</td>\n",
       "      <td>[Passenger 1, Passenger 3]</td>\n",
       "      <td>[30, 27]</td>\n",
       "      <td>[Male, Female]</td>\n",
       "      <td>[A1, A1]</td>\n",
       "      <td>[10, 11]</td>\n",
       "      <td>[Sleeper, Sleeper]</td>\n",
       "    </tr>\n",
       "    <tr>\n",
       "      <th>102</th>\n",
       "      <td>[2024-04-13T08:00:00]</td>\n",
       "      <td>[2024-04-16T08:00:00]</td>\n",
       "      <td>[Station C]</td>\n",
       "      <td>[Station D]</td>\n",
       "      <td>[Cash]</td>\n",
       "      <td>[150]</td>\n",
       "      <td>[Confirmed]</td>\n",
       "      <td>[DEF456]</td>\n",
       "      <td>[102]</td>\n",
       "      <td>[Passenger 2]</td>\n",
       "      <td>[25]</td>\n",
       "      <td>[Female]</td>\n",
       "      <td>[B1]</td>\n",
       "      <td>[5]</td>\n",
       "      <td>[AC]</td>\n",
       "    </tr>\n",
       "  </tbody>\n",
       "</table>\n",
       "</div>"
      ],
      "text/plain": [
       "                                          RESERVATION_DATE  \\\n",
       "RESERVATION_ID                                               \n",
       "101             [2024-04-13T08:00:00, 2024-04-13T08:00:00]   \n",
       "102                                  [2024-04-13T08:00:00]   \n",
       "\n",
       "                                               TRAVEL_DATE  \\\n",
       "RESERVATION_ID                                               \n",
       "101             [2024-04-15T08:00:00, 2024-04-15T08:00:00]   \n",
       "102                                  [2024-04-16T08:00:00]   \n",
       "\n",
       "                        SOURCE_STATION     DESTINATION_STATION PAYMENT_METHOD  \\\n",
       "RESERVATION_ID                                                                  \n",
       "101             [Station A, Station A]  [Station B, Station B]   [Card, Card]   \n",
       "102                        [Station C]             [Station D]         [Cash]   \n",
       "\n",
       "                TOTAL_FARE          BOOKING_STATUS          TRAIN_ID  \\\n",
       "RESERVATION_ID                                                         \n",
       "101             [100, 100]  [Confirmed, Confirmed]  [ABC123, ABC123]   \n",
       "102                  [150]             [Confirmed]          [DEF456]   \n",
       "\n",
       "               PASSENGER_ID                        NAME       AGE  \\\n",
       "RESERVATION_ID                                                      \n",
       "101              [101, 103]  [Passenger 1, Passenger 3]  [30, 27]   \n",
       "102                   [102]               [Passenger 2]      [25]   \n",
       "\n",
       "                        GENDER  COACH_NO   SEAT_NO          CLASS_TYPE  \n",
       "RESERVATION_ID                                                          \n",
       "101             [Male, Female]  [A1, A1]  [10, 11]  [Sleeper, Sleeper]  \n",
       "102                   [Female]      [B1]       [5]                [AC]  "
      ]
     },
     "execution_count": 99,
     "metadata": {},
     "output_type": "execute_result"
    }
   ],
   "source": [
    "result_df = df_grouped.agg(lambda x: list(x))\n",
    "result_df"
   ]
  },
  {
   "cell_type": "code",
   "execution_count": 36,
   "metadata": {},
   "outputs": [],
   "source": [
    "# result_df[\"RESERVATION_ID\"] = result_df.index"
   ]
  },
  {
   "cell_type": "code",
   "execution_count": 50,
   "metadata": {},
   "outputs": [
    {
     "name": "stdout",
     "output_type": "stream",
     "text": [
      "['2024-04-13T08:00:00', '2024-04-13T08:00:00']\n",
      "['2024-04-15T08:00:00', '2024-04-15T08:00:00']\n",
      "['Station A', 'Station A']\n",
      "['Station B', 'Station B']\n",
      "['Card', 'Card']\n",
      "[100, 100]\n",
      "['Confirmed', 'Confirmed']\n",
      "['ABC123', 'ABC123']\n",
      "[101, 103]\n",
      "['Passenger 1', 'Passenger 3']\n",
      "[30, 27]\n",
      "['Male', 'Female']\n",
      "['A1', 'A1']\n",
      "['10', '11']\n",
      "['Sleeper', 'Sleeper']\n",
      "101\n"
     ]
    }
   ],
   "source": [
    "for reservation in result_df:\n",
    "    print(result_df.loc[101, reservation])"
   ]
  },
  {
   "cell_type": "code",
   "execution_count": 77,
   "metadata": {},
   "outputs": [
    {
     "data": {
      "text/plain": [
       "2"
      ]
     },
     "execution_count": 77,
     "metadata": {},
     "output_type": "execute_result"
    }
   ],
   "source": [
    "count = df_grouped.agg({'RESERVATION_ID': 'count'})\n",
    "count.at[101, 'RESERVATION_ID']"
   ]
  },
  {
   "cell_type": "code",
   "execution_count": 101,
   "metadata": {},
   "outputs": [
    {
     "data": {
      "text/plain": [
       "[{'reservationId': 101,\n",
       "  'reservationDate': '2024-04-13T08:00:00',\n",
       "  'travelDate': '2024-04-15T08:00:00',\n",
       "  'sourceStation': 'Station A',\n",
       "  'destinationStation': 'Station B',\n",
       "  'paymentMethod': 'Card',\n",
       "  'totalFare': 100.0,\n",
       "  'status': 'Confirmed',\n",
       "  'trainId': 'ABC123',\n",
       "  'passengers': [{'passengerId': 101,\n",
       "    'name': 'Passenger 1',\n",
       "    'age': 30,\n",
       "    'gender': 'Male',\n",
       "    'coachNumber': 'A1',\n",
       "    'seatNumber': '10',\n",
       "    'classType': 'Sleeper'},\n",
       "   {'passengerId': 103,\n",
       "    'name': 'Passenger 3',\n",
       "    'age': 27,\n",
       "    'gender': 'Female',\n",
       "    'coachNumber': 'A1',\n",
       "    'seatNumber': '11',\n",
       "    'classType': 'Sleeper'}]},\n",
       " {'reservationId': 102,\n",
       "  'reservationDate': '2024-04-13T08:00:00',\n",
       "  'travelDate': '2024-04-16T08:00:00',\n",
       "  'sourceStation': 'Station C',\n",
       "  'destinationStation': 'Station D',\n",
       "  'paymentMethod': 'Cash',\n",
       "  'totalFare': 150.0,\n",
       "  'status': 'Confirmed',\n",
       "  'trainId': 'DEF456',\n",
       "  'passengers': [{'passengerId': 102,\n",
       "    'name': 'Passenger 2',\n",
       "    'age': 25,\n",
       "    'gender': 'Female',\n",
       "    'coachNumber': 'B1',\n",
       "    'seatNumber': '5',\n",
       "    'classType': 'AC'}]}]"
      ]
     },
     "execution_count": 101,
     "metadata": {},
     "output_type": "execute_result"
    }
   ],
   "source": [
    "response = list(map(lambda reservationId: {\n",
    "    \"reservationId\": reservationId,\n",
    "    \"reservationDate\": result_df.at[reservationId,\"RESERVATION_DATE\"][0],\n",
    "    \"travelDate\": None if result_df.at[reservationId, 'TRAVEL_DATE'][0] is None else result_df.at[reservationId, 'TRAVEL_DATE'][0],\n",
    "    \"sourceStation\": result_df.at[reservationId, 'SOURCE_STATION'][0],\n",
    "    \"destinationStation\": result_df.at[reservationId, 'DESTINATION_STATION'][0],\n",
    "    \"paymentMethod\": result_df.at[reservationId, 'PAYMENT_METHOD'][0],\n",
    "    \"totalFare\": float(result_df.at[reservationId, 'TOTAL_FARE'][0]),\n",
    "    \"status\": result_df.at[reservationId, 'BOOKING_STATUS'][0],\n",
    "    \"trainId\": result_df.at[reservationId, 'TRAIN_ID'][0],\n",
    "    \"passengers\": list(map(lambda passenger: {\n",
    "        \"passengerId\": result_df.at[reservationId, 'PASSENGER_ID'][passenger],\n",
    "        \"name\": result_df.at[reservationId, 'NAME'][passenger],\n",
    "        \"age\": result_df.at[reservationId,\"AGE\"][passenger],\n",
    "        \"gender\": result_df.at[reservationId,\"GENDER\"][passenger],\n",
    "        \"coachNumber\": result_df.at[reservationId,\"COACH_NO\"][passenger],\n",
    "        \"seatNumber\": result_df.at[reservationId,\"SEAT_NO\"][passenger],\n",
    "        \"classType\": result_df.at[reservationId,\"CLASS_TYPE\"][passenger]\n",
    "    }, range(len(result_df.at[reservationId, 'PASSENGER_ID']))))\n",
    "},result_df.index))\n",
    "\n",
    "response"
   ]
  },
  {
   "cell_type": "code",
   "execution_count": 109,
   "metadata": {},
   "outputs": [
    {
     "data": {
      "text/plain": [
       "'\\n    SELECT rr.reservation_id, rr.reservation_date, rr.travel_date, rr.source_station, rr.destination_station,    rr.payment_method, rr.total_fare, rr.booking_status, rr.train_id, tpd.passenger_id, tpd.name, tpd.age,    tpd.gender, tpd.coach_no, tpd.seat_no, tpd.class_type    FROM RAILWAY_RESERVATIONS rr    INNER JOIN TICKET_PASSENGER_DETAILS tpd    ON rr.reservation_id=tpd.reservation_id    WHERE rr.reservation_id=101    '"
      ]
     },
     "execution_count": 109,
     "metadata": {},
     "output_type": "execute_result"
    }
   ],
   "source": [
    "selectQuery = f\"\"\"\n",
    "    SELECT rr.reservation_id, rr.reservation_date, rr.travel_date, rr.source_station, rr.destination_station,\\\n",
    "    rr.payment_method, rr.total_fare, rr.booking_status, rr.train_id, tpd.passenger_id, tpd.name, tpd.age,\\\n",
    "    tpd.gender, tpd.coach_no, tpd.seat_no, tpd.class_type\\\n",
    "    FROM RAILWAY_RESERVATIONS rr\\\n",
    "    INNER JOIN TICKET_PASSENGER_DETAILS tpd\\\n",
    "    ON rr.reservation_id=tpd.reservation_id\\\n",
    "    WHERE rr.reservation_id=101\\\n",
    "    \"\"\"\n",
    "selectQuery"
   ]
  },
  {
   "cell_type": "code",
   "execution_count": null,
   "metadata": {},
   "outputs": [],
   "source": []
  }
 ],
 "metadata": {
  "kernelspec": {
   "display_name": ".venv",
   "language": "python",
   "name": "python3"
  },
  "language_info": {
   "codemirror_mode": {
    "name": "ipython",
    "version": 3
   },
   "file_extension": ".py",
   "mimetype": "text/x-python",
   "name": "python",
   "nbconvert_exporter": "python",
   "pygments_lexer": "ipython3",
   "version": "3.10.11"
  }
 },
 "nbformat": 4,
 "nbformat_minor": 2
}
